{
 "cells": [
  {
   "cell_type": "code",
   "execution_count": 1,
   "metadata": {},
   "outputs": [
    {
     "ename": "ImportError",
     "evalue": "attempted relative import with no known parent package",
     "output_type": "error",
     "traceback": [
      "\u001b[1;31m---------------------------------------------------------------------------\u001b[0m",
      "\u001b[1;31mImportError\u001b[0m                               Traceback (most recent call last)",
      "Cell \u001b[1;32mIn[1], line 3\u001b[0m\n\u001b[0;32m      1\u001b[0m \u001b[38;5;28;01mimport\u001b[39;00m\u001b[38;5;250m \u001b[39m\u001b[38;5;21;01masyncio\u001b[39;00m\n\u001b[1;32m----> 3\u001b[0m \u001b[38;5;28;01mfrom\u001b[39;00m\u001b[38;5;250m \u001b[39m\u001b[38;5;21;01m.\u001b[39;00m\u001b[38;5;21;01mmanager\u001b[39;00m\u001b[38;5;250m \u001b[39m\u001b[38;5;28;01mimport\u001b[39;00m FinancialResearchManager\n\u001b[0;32m      6\u001b[0m \u001b[38;5;66;03m# Entrypoint for the financial bot example.\u001b[39;00m\n\u001b[0;32m      7\u001b[0m \u001b[38;5;66;03m# Run this as `python -m examples.financial_bot.main` and enter a\u001b[39;00m\n\u001b[0;32m      8\u001b[0m \u001b[38;5;66;03m# financial research query, for example:\u001b[39;00m\n\u001b[0;32m      9\u001b[0m \u001b[38;5;66;03m# \"Write up an analysis of Apple Inc.'s most recent quarter.\"\u001b[39;00m\n\u001b[0;32m     10\u001b[0m \u001b[38;5;28;01masync\u001b[39;00m \u001b[38;5;28;01mdef\u001b[39;00m\u001b[38;5;250m \u001b[39m\u001b[38;5;21mmain\u001b[39m() \u001b[38;5;241m-\u001b[39m\u001b[38;5;241m>\u001b[39m \u001b[38;5;28;01mNone\u001b[39;00m:\n",
      "\u001b[1;31mImportError\u001b[0m: attempted relative import with no known parent package"
     ]
    }
   ],
   "source": [
    "import asyncio\n",
    "\n",
    "from .manager import FinancialResearchManager\n",
    "\n",
    "\n",
    "# Entrypoint for the financial bot example.\n",
    "# Run this as `python -m examples.financial_bot.main` and enter a\n",
    "# financial research query, for example:\n",
    "# \"Write up an analysis of Apple Inc.'s most recent quarter.\"\n",
    "async def main() -> None:\n",
    "    query = input(\"Enter a financial research query: \")\n",
    "    mgr = FinancialResearchManager()\n",
    "    await mgr.run(query)\n",
    "\n",
    "\n",
    "if __name__ == \"__main__\":\n",
    "    asyncio.run(main())"
   ]
  }
 ],
 "metadata": {
  "kernelspec": {
   "display_name": "base",
   "language": "python",
   "name": "python3"
  },
  "language_info": {
   "codemirror_mode": {
    "name": "ipython",
    "version": 3
   },
   "file_extension": ".py",
   "mimetype": "text/x-python",
   "name": "python",
   "nbconvert_exporter": "python",
   "pygments_lexer": "ipython3",
   "version": "3.11.8"
  }
 },
 "nbformat": 4,
 "nbformat_minor": 2
}
